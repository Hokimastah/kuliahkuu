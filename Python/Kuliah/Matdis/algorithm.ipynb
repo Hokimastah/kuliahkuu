{
 "cells": [
  {
   "cell_type": "code",
   "execution_count": 2,
   "metadata": {},
   "outputs": [],
   "source": [
    "# Merge\n",
    "def merge(kiri,kanan):\n",
    "    result = []\n",
    "    a = b = 0\n",
    "    while a < len(kiri) and b < len(kanan):\n",
    "        if kiri[a] <= kanan[b]:\n",
    "            result.append(kiri[a])\n",
    "            a+=1\n",
    "        else :\n",
    "            result.append(kanan[b])\n",
    "            b+=1\n",
    "    while a < len(kiri):\n",
    "        result.append(kiri[a])\n",
    "        a+=1 \n",
    "    \n",
    "    while b < len(kanan):\n",
    "        result.append(kanan[b])\n",
    "        b+=1\n",
    "\n",
    "    return result"
   ]
  },
  {
   "cell_type": "code",
   "execution_count": null,
   "metadata": {},
   "outputs": [],
   "source": [
    "# merge short\n",
    "def m_sort(arr):\n",
    "    if len(arr) <1:\n",
    "        return arr\n",
    "    else :\n",
    "        tengah = len(arr)//2\n",
    "        kiri = arr[:tengah]\n",
    "        kanan = arr[tengah:]\n",
    "\n",
    "        kiri = m_sort(kiri)\n",
    "        kanan = m_sort(kanan)\n",
    "        return merge(kiri,kanan)"
   ]
  },
  {
   "cell_type": "code",
   "execution_count": null,
   "metadata": {},
   "outputs": [],
   "source": [
    "# Binary Search\n",
    "import math\n",
    "from math import floor as fr\n",
    "\n",
    "def b_search(a,b):\n",
    "    c = 0\n",
    "    d = len(a)-1\n",
    "    while c<=d :\n",
    "        e = fr((c+d)/2)\n",
    "        if a[e]<b :\n",
    "            c = e + 1\n",
    "        elif a[e]>b :\n",
    "            d = e - 1\n",
    "        else : return e\n",
    "    return -1"
   ]
  }
 ],
 "metadata": {
  "kernelspec": {
   "display_name": "Python 3",
   "language": "python",
   "name": "python3"
  },
  "language_info": {
   "codemirror_mode": {
    "name": "ipython",
    "version": 3
   },
   "file_extension": ".py",
   "mimetype": "text/x-python",
   "name": "python",
   "nbconvert_exporter": "python",
   "pygments_lexer": "ipython3",
   "version": "3.11.6"
  }
 },
 "nbformat": 4,
 "nbformat_minor": 2
}
