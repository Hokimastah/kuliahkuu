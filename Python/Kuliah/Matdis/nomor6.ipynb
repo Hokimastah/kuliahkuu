{
 "cells": [
  {
   "cell_type": "code",
   "execution_count": null,
   "metadata": {},
   "outputs": [],
   "source": [
    "#A\n",
    "def an(n):\n",
    "    if n == 1:\n",
    "        return 1\n",
    "    elif n == 2:\n",
    "        return 1\n",
    "    x = an(n-1)+an(n-2)\n",
    "    return x\n",
    "n = int(input())\n",
    "print(an(n))"
   ]
  },
  {
   "cell_type": "code",
   "execution_count": null,
   "metadata": {},
   "outputs": [],
   "source": [
    "#B\n",
    "def bn(n):\n",
    "    if n == 1:\n",
    "        return 2\n",
    "    elif n == 2:\n",
    "        return 3\n",
    "    x = bn(n-1)*bn(n-2)\n",
    "    return x\n",
    "n = int(input())\n",
    "print(bn(n))"
   ]
  },
  {
   "cell_type": "code",
   "execution_count": null,
   "metadata": {},
   "outputs": [],
   "source": [
    "#C\n",
    "def cn(n):\n",
    "    if n == 1:\n",
    "        return 5\n",
    "    x = 2*cn(n-1) + n\n",
    "    return x\n",
    "n = int(input())\n",
    "print(cn(n))"
   ]
  }
 ],
 "metadata": {
  "language_info": {
   "name": "python"
  }
 },
 "nbformat": 4,
 "nbformat_minor": 2
}
