{
 "cells": [
  {
   "cell_type": "code",
   "execution_count": 3,
   "metadata": {},
   "outputs": [
    {
     "ename": "ModuleNotFoundError",
     "evalue": "No module named 'networkx'",
     "output_type": "error",
     "traceback": [
      "\u001b[1;31m---------------------------------------------------------------------------\u001b[0m",
      "\u001b[1;31mModuleNotFoundError\u001b[0m                       Traceback (most recent call last)",
      "Cell \u001b[1;32mIn[3], line 1\u001b[0m\n\u001b[1;32m----> 1\u001b[0m \u001b[38;5;28;01mimport\u001b[39;00m \u001b[38;5;21;01mnetworkx\u001b[39;00m \u001b[38;5;28;01mas\u001b[39;00m \u001b[38;5;21;01mnx\u001b[39;00m\n\u001b[0;32m      2\u001b[0m \u001b[38;5;28;01mimport\u001b[39;00m \u001b[38;5;21;01mmatplotlib\u001b[39;00m\u001b[38;5;21;01m.\u001b[39;00m\u001b[38;5;21;01mpyplot\u001b[39;00m \u001b[38;5;28;01mas\u001b[39;00m \u001b[38;5;21;01mplt\u001b[39;00m\n",
      "\u001b[1;31mModuleNotFoundError\u001b[0m: No module named 'networkx'"
     ]
    }
   ],
   "source": [
    "import networkx as nx\n",
    "import matplotlib.pyplot as plt"
   ]
  },
  {
   "cell_type": "code",
   "execution_count": null,
   "metadata": {},
   "outputs": [],
   "source": [
    "g = nx.Graph()\n",
    "g.add_nodes_from([1,2,3,4,5,6,7,8,9])\n",
    "g.add_edges_from([(1,2),(2,3),(3,4),(4,5),(5,6),(6,7),(7,8),(8,9),(9,1),(2,4),(3,6),(3,5)])\n",
    "nx.draw(g, with_labels = True)"
   ]
  },
  {
   "cell_type": "markdown",
   "metadata": {},
   "source": [
    "Undirected graph"
   ]
  },
  {
   "cell_type": "code",
   "execution_count": null,
   "metadata": {},
   "outputs": [],
   "source": [
    "g1 = nx.Graph()\n",
    "g1.add_nodes_from([1,2,3,4,5,6])\n",
    "g1.add_edges_from([(1,2),(3,4),(5,6),(2,3),(1,5),(2,4),(2,6)])\n",
    "m1 = nx.adjacency_matrix(g1)\n",
    "nx.draw(g1, with_labels = True)\n",
    "print(m1.todense())"
   ]
  },
  {
   "cell_type": "markdown",
   "metadata": {},
   "source": [
    "Directed graph"
   ]
  },
  {
   "cell_type": "code",
   "execution_count": null,
   "metadata": {},
   "outputs": [],
   "source": [
    "g2 = nx.DiGraph()\n",
    "g2.add_nodes_from([1,2,3,4,5,6])\n",
    "g2.add_edges_from([(1,2),(3,4),(5,6),(2,3),(1,5),(2,4),(2,6),(4,1),(6,3)])\n",
    "m2 = nx.adjacency_matrix(g2)\n",
    "nx.draw(g2, with_labels = True)\n",
    "print(m2.todense())"
   ]
  },
  {
   "cell_type": "markdown",
   "metadata": {},
   "source": [
    "Weighted graph"
   ]
  },
  {
   "cell_type": "code",
   "execution_count": null,
   "metadata": {},
   "outputs": [],
   "source": [
    "g3 = nx.Graph()\n",
    "g3.add_nodes_from([1,2,3,4,5,6])\n",
    "g3.add_weighted_edges_from([(1,2,7),(3,4,10),(2,3,6), (4,5,1),(5,6,5),(6,1,6),(2,6,8),(3,6,2),(4,6,12)])\n",
    "m3 = nx.adjacency_matrix(g3)\n",
    "\n",
    "bobot = nx.spring_layout(g3, seed=6)\n",
    "Labels = nx.get_edge_attributes(g3, \"weight\")\n",
    "\n",
    "nx.draw_networkx_edge_labels(g3, bobot, edge_labels = Labels, label_pos = 0.3)\n",
    "nx.draw(g3,bobot, with_labels = True)\n",
    "print(m3.todense())\n",
    "print(g3)"
   ]
  }
 ],
 "metadata": {
  "kernelspec": {
   "display_name": "Python 3",
   "language": "python",
   "name": "python3"
  },
  "language_info": {
   "codemirror_mode": {
    "name": "ipython",
    "version": 3
   },
   "file_extension": ".py",
   "mimetype": "text/x-python",
   "name": "python",
   "nbconvert_exporter": "python",
   "pygments_lexer": "ipython3",
   "version": "3.11.8"
  }
 },
 "nbformat": 4,
 "nbformat_minor": 2
}
